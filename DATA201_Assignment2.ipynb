{
 "cells": [
  {
   "cell_type": "markdown",
   "metadata": {},
   "source": [
    "# Data 201\n",
    "\n",
    "Data Wrangling, S2 2019\n",
    "\n",
    "## Assignement 2\n",
    "\n",
    "### 20% of final grade\n",
    "\n",
    "## Due date: 2pm Tuesday 6 October 2020\n",
    "\n",
    "The assignment must be submitted on the DATA 201 and 422 Learn page and should be **your own pair** (or group of three if we are odd) **work**. Avoid plagiarism: if you are not sure what may constitute code plagiarism, read this http://web.science.mq.edu.au/~mtaylor/ponline/index.php?id=source-code-plagiarism. Remember, when in doubt **declare your sources**.  \n",
    "As a general rule, late submission are **highly** unsuggested. The pace of the course is very quick, and you don't want to be working on this too long, as you would have less time for other assignments. I suggest you to submit what you have ready by the time the assignment is due, even if it is not everything we required. For any particular problem, please contact [Thomas Li](thomas.li@canterbury.ac.nz) or [Giulio Dalla Riva](giulio.dallariva@canterbury.ac.nz) or TAs.\n",
    "\n",
    "\n",
    "## Instruction\n",
    "\n",
    "### Total: 20 marks.\n",
    "\n",
    "For this assignment you will work with data from the web. Your goal is to scrape it or request it, wrangle it, produce some plotting, in order to demonstrate that you are able to use the functions, plotting, and markdown format we have been learning.  \n",
    "You shall hand in your work as a jupyter R notebook comprehending the code, the plots and, **very important**, enough comments and explanations for us to understand what you did, how you did it, and why you did it. Remember: better comments, means better marks.  \n",
    "You can either modify this notebook or write a new one from scratch."
   ]
  },
  {
   "cell_type": "markdown",
   "metadata": {},
   "source": [
    "Do use the tidyverse syntax that's introduced in class and labs. If in doubt, refresh the lab material 1 to 7."
   ]
  },
  {
   "cell_type": "markdown",
   "metadata": {},
   "source": [
    "### Task (a): scrape it (5 marks)\n",
    "\n",
    "Identify a website page showing information you find interesting. The information should be presented across more than one page. Select one of this pages (the rest is for later) and using `rvest` (and the suit of `tidyverse` libraries we used so far, plus any other one you may need) get the html into R."
   ]
  },
  {
   "cell_type": "code",
   "execution_count": 1,
   "metadata": {},
   "outputs": [
    {
     "name": "stderr",
     "output_type": "stream",
     "text": [
      "─ \u001b[1mAttaching packages\u001b[22m ──────────────────── tidyverse 1.3.0 ─\n",
      "\n",
      "\u001b[32m✔\u001b[39m \u001b[34mggplot2\u001b[39m 3.3.2     \u001b[32m✔\u001b[39m \u001b[34mpurrr  \u001b[39m 0.3.4\n",
      "\u001b[32m✔\u001b[39m \u001b[34mtibble \u001b[39m 3.0.3     \u001b[32m✔\u001b[39m \u001b[34mdplyr  \u001b[39m 1.0.0\n",
      "\u001b[32m✔\u001b[39m \u001b[34mtidyr  \u001b[39m 1.1.0     \u001b[32m✔\u001b[39m \u001b[34mstringr\u001b[39m 1.4.0\n",
      "\u001b[32m✔\u001b[39m \u001b[34mreadr  \u001b[39m 1.3.1     \u001b[32m✔\u001b[39m \u001b[34mforcats\u001b[39m 0.5.0\n",
      "\n",
      "─ \u001b[1mConflicts\u001b[22m ───────────────────── tidyverse_conflicts() ─\n",
      "\u001b[31m✖\u001b[39m \u001b[34mdplyr\u001b[39m::\u001b[32mfilter()\u001b[39m masks \u001b[34mstats\u001b[39m::filter()\n",
      "\u001b[31m✖\u001b[39m \u001b[34mdplyr\u001b[39m::\u001b[32mlag()\u001b[39m    masks \u001b[34mstats\u001b[39m::lag()\n",
      "\n",
      "\n",
      "Attaching package: ‘magrittr’\n",
      "\n",
      "\n",
      "The following object is masked from ‘package:purrr’:\n",
      "\n",
      "    set_names\n",
      "\n",
      "\n",
      "The following object is masked from ‘package:tidyr’:\n",
      "\n",
      "    extract\n",
      "\n",
      "\n",
      "\n",
      "Attaching package: ‘glue’\n",
      "\n",
      "\n",
      "The following object is masked from ‘package:dplyr’:\n",
      "\n",
      "    collapse\n",
      "\n",
      "\n",
      "Loading required package: xml2\n",
      "\n",
      "\n",
      "Attaching package: ‘rvest’\n",
      "\n",
      "\n",
      "The following object is masked from ‘package:purrr’:\n",
      "\n",
      "    pluck\n",
      "\n",
      "\n",
      "The following object is masked from ‘package:readr’:\n",
      "\n",
      "    guess_encoding\n",
      "\n",
      "\n"
     ]
    }
   ],
   "source": [
    "library(tidyverse)\n",
    "library(magrittr)\n",
    "library(purrr)\n",
    "library(glue)\n",
    "library(stringr)\n",
    "library(rvest)\n",
    "library(polite)"
   ]
  },
  {
   "cell_type": "markdown",
   "metadata": {},
   "source": [
    "load these libraries"
   ]
  },
  {
   "cell_type": "code",
   "execution_count": 6,
   "metadata": {},
   "outputs": [
    {
     "data": {
      "text/html": [
       "<style>\n",
       ".list-inline {list-style: none; margin:0; padding: 0}\n",
       ".list-inline>li {display: inline-block}\n",
       ".list-inline>li:not(:last-child)::after {content: \"\\00b7\"; padding: 0 .5ex}\n",
       "</style>\n",
       "<ol class=list-inline><li>'Auckland'</li><li>'Dannevirke'</li><li>'Dargaville'</li><li>'Gisborne'</li><li>'Hamilton'</li><li>'Hastings'</li><li>'Kaitaia'</li><li>'Levin'</li><li>'Masterton'</li><li>'Napier'</li><li>'New Plymouth'</li><li>'Paihia'</li><li>'Palmerston North'</li><li>'Paraparaumu'</li><li>'Rotorua'</li><li>'Taumarunui'</li><li>'Taupō'</li><li>'Tauranga'</li><li>'Te Kuiti'</li><li>'Thames'</li><li>'Tokoroa'</li><li>'Whanganui'</li><li>'Wellington'</li><li>'Whakatāne'</li><li>'Whangārei'</li><li>'Alexandra'</li><li>'Ashburton'</li><li>'Blenheim'</li><li>'Christchurch'</li><li>'Dunedin'</li><li>'Gore'</li><li>'Greymouth'</li><li>'Hokitika'</li><li>'Invercargill'</li><li>'Kaikōura'</li><li>'Motueka'</li><li>'Nelson'</li><li>'Oamaru'</li><li>'Queenstown'</li><li>'Reefton'</li><li>'Timaru'</li><li>'Wanaka'</li><li>'Westport'</li></ol>\n"
      ],
      "text/latex": [
       "\\begin{enumerate*}\n",
       "\\item 'Auckland'\n",
       "\\item 'Dannevirke'\n",
       "\\item 'Dargaville'\n",
       "\\item 'Gisborne'\n",
       "\\item 'Hamilton'\n",
       "\\item 'Hastings'\n",
       "\\item 'Kaitaia'\n",
       "\\item 'Levin'\n",
       "\\item 'Masterton'\n",
       "\\item 'Napier'\n",
       "\\item 'New Plymouth'\n",
       "\\item 'Paihia'\n",
       "\\item 'Palmerston North'\n",
       "\\item 'Paraparaumu'\n",
       "\\item 'Rotorua'\n",
       "\\item 'Taumarunui'\n",
       "\\item 'Taupō'\n",
       "\\item 'Tauranga'\n",
       "\\item 'Te Kuiti'\n",
       "\\item 'Thames'\n",
       "\\item 'Tokoroa'\n",
       "\\item 'Whanganui'\n",
       "\\item 'Wellington'\n",
       "\\item 'Whakatāne'\n",
       "\\item 'Whangārei'\n",
       "\\item 'Alexandra'\n",
       "\\item 'Ashburton'\n",
       "\\item 'Blenheim'\n",
       "\\item 'Christchurch'\n",
       "\\item 'Dunedin'\n",
       "\\item 'Gore'\n",
       "\\item 'Greymouth'\n",
       "\\item 'Hokitika'\n",
       "\\item 'Invercargill'\n",
       "\\item 'Kaikōura'\n",
       "\\item 'Motueka'\n",
       "\\item 'Nelson'\n",
       "\\item 'Oamaru'\n",
       "\\item 'Queenstown'\n",
       "\\item 'Reefton'\n",
       "\\item 'Timaru'\n",
       "\\item 'Wanaka'\n",
       "\\item 'Westport'\n",
       "\\end{enumerate*}\n"
      ],
      "text/markdown": [
       "1. 'Auckland'\n",
       "2. 'Dannevirke'\n",
       "3. 'Dargaville'\n",
       "4. 'Gisborne'\n",
       "5. 'Hamilton'\n",
       "6. 'Hastings'\n",
       "7. 'Kaitaia'\n",
       "8. 'Levin'\n",
       "9. 'Masterton'\n",
       "10. 'Napier'\n",
       "11. 'New Plymouth'\n",
       "12. 'Paihia'\n",
       "13. 'Palmerston North'\n",
       "14. 'Paraparaumu'\n",
       "15. 'Rotorua'\n",
       "16. 'Taumarunui'\n",
       "17. 'Taupō'\n",
       "18. 'Tauranga'\n",
       "19. 'Te Kuiti'\n",
       "20. 'Thames'\n",
       "21. 'Tokoroa'\n",
       "22. 'Whanganui'\n",
       "23. 'Wellington'\n",
       "24. 'Whakatāne'\n",
       "25. 'Whangārei'\n",
       "26. 'Alexandra'\n",
       "27. 'Ashburton'\n",
       "28. 'Blenheim'\n",
       "29. 'Christchurch'\n",
       "30. 'Dunedin'\n",
       "31. 'Gore'\n",
       "32. 'Greymouth'\n",
       "33. 'Hokitika'\n",
       "34. 'Invercargill'\n",
       "35. 'Kaikōura'\n",
       "36. 'Motueka'\n",
       "37. 'Nelson'\n",
       "38. 'Oamaru'\n",
       "39. 'Queenstown'\n",
       "40. 'Reefton'\n",
       "41. 'Timaru'\n",
       "42. 'Wanaka'\n",
       "43. 'Westport'\n",
       "\n",
       "\n"
      ],
      "text/plain": [
       " [1] \"Auckland\"         \"Dannevirke\"       \"Dargaville\"       \"Gisborne\"        \n",
       " [5] \"Hamilton\"         \"Hastings\"         \"Kaitaia\"          \"Levin\"           \n",
       " [9] \"Masterton\"        \"Napier\"           \"New Plymouth\"     \"Paihia\"          \n",
       "[13] \"Palmerston North\" \"Paraparaumu\"      \"Rotorua\"          \"Taumarunui\"      \n",
       "[17] \"Taupō\"           \"Tauranga\"         \"Te Kuiti\"         \"Thames\"          \n",
       "[21] \"Tokoroa\"          \"Whanganui\"        \"Wellington\"       \"Whakatāne\"      \n",
       "[25] \"Whangārei\"       \"Alexandra\"        \"Ashburton\"        \"Blenheim\"        \n",
       "[29] \"Christchurch\"     \"Dunedin\"          \"Gore\"             \"Greymouth\"       \n",
       "[33] \"Hokitika\"         \"Invercargill\"     \"Kaikōura\"        \"Motueka\"         \n",
       "[37] \"Nelson\"           \"Oamaru\"           \"Queenstown\"       \"Reefton\"         \n",
       "[41] \"Timaru\"           \"Wanaka\"           \"Westport\"        "
      ]
     },
     "metadata": {},
     "output_type": "display_data"
    }
   ],
   "source": [
    "url <- \"https://www.tvnz.co.nz/one-news/weather-forecast\"\n",
    "read_html(url)%>%\n",
    "    html_nodes(\".locationSelectDropdownSubItemsHolder\")%>%\n",
    "    html_nodes(\"ul\")%>%\n",
    "    html_nodes(\"li\")%>%\n",
    "    html_text()"
   ]
  },
  {
   "cell_type": "markdown",
   "metadata": {},
   "source": [
    "read city name from \"https://www.tvnz.co.nz/one-news/weather-forecast\""
   ]
  },
  {
   "cell_type": "code",
   "execution_count": 30,
   "metadata": {},
   "outputs": [
    {
     "data": {
      "text/html": [
       "<style>\n",
       ".list-inline {list-style: none; margin:0; padding: 0}\n",
       ".list-inline>li {display: inline-block}\n",
       ".list-inline>li:not(:last-child)::after {content: \"\\00b7\"; padding: 0 .5ex}\n",
       "</style>\n",
       "<ol class=list-inline><li>'North Island: A few showers in the west, south of Hamilton. Fine elsewhere. Severe gale westerlies possible about Wairarapa. South Island: Rain in the west and south, heavy for a time. Fine elsewhere. Severe gale northwesterlies for the Canterbury High Country and further south.'</li><li>'North Island: Fine, but cloudy periods in the west. Gale westerlies in Wairarapa, easing. South Island: Rain in the west and far south, clearing the south at night. Mainly fine elsewhere. Severe gale northwesterlies for the Canterbury High Country and further south.'</li><li>'North Island: Fine, but cloudy periods in the west. South Island: Rain in the west, developing in the far south later. Mainly fine elsewhere. Severe gale northwesterlies for the Canterbury High Country and further south.'</li><li>'A few showers with northerlies, changing southwest on Sunday. Cloudy periods on Monday as winds turn northerly.'</li><li>'Cloudy periods and isolated showers.'</li><li>'Mostly fine. A few cloudy areas.'</li><li>'Fine today. Cloudy periods tomorrow, and patchy drizzle.'</li><li>'Fine, apart from a few areas of morning cloud.'</li><li>'Cloud increasing. Isolated showers, becoming more widespread tomorrow evening.'</li><li>'Isolated showers turning to rain tomorrow, with heavy falls about the ranges.'</li><li>'High cloud. Rain developing about Stewart Island tomorrow, with patchy falls for Otago and Southland. Northwest gales in exposed places tomorrow.'</li><li>'Cloudy periods.'</li><li>'Thursday : Variable 10 knots. Sea slight. Fair visibility in a few showers from afternoon. Friday : Northerly 10 knots. Sea slight. Fair visibility in isolated showers from morning, clearing afternoon.'</li><li>'Outlook following 3 days: \\nSaturday: Northeast 10 knots. Sunday: Westerly 15 knots developing. Monday: Westerly 15 knots.'</li><li>'Thursday : Variable 10 knots. Sea slight. Southwest swell 2 metres easing,period 13 seconds. Fair visibility in showers, clearing afternoon. Friday :Variable 10 knots. Sea slight. Southwest swell 1 metre easing, period 12 seconds.'</li><li>'Outlook following 3 days: \\nSaturday: Northeast 15 knots. Sunday: Variable 10 knots but easterly 15 knots in the north. Moderate southwest swell developing. Monday: Variable 10 knots, but easterly 15 knots in the north. Moderate southwest swell.'</li><li>'Manukau and Waitemata Harbours, Hauraki Gulf and Bream Head to Cape Colville.'</li><li><span style=white-space:pre-wrap>'Situation\\n\\t                    A ridge of high pressure over New Zealand moves north as a front approaches the far south late today, then moves up the South Island during Friday and weakens. Another front is expected over the lower South Island late Friday, then remains slow moving there through the weekend, while a westerly flow dominates the rest of the country.'</span></li><li><span style=white-space:pre-wrap>'Warning\\n\\t                    Nil'</span></li><li>'ForecastFor Manukau Harbour: \\n\\nThursday: Southwest 10 knots easing to variable 5 knots this evening. Sea slight but choppy when wind opposes tide. Mainly fine, a few showers in the west. Southwest 2.5 metres swell gradually easing to 1.5 metres. \\nFriday: Variable 5 knots. Northerly 10 knots developing in the morning. Sea slight but choppy when wind opposes tide. Cloudy periods, chance afternoon or evening shower. Southwest swell easing to half a metre. \\nSaturday: Variable 5 knots. Mostly sunny. Southwest swell about half a metre. \\nSunday: Westerly 10 knots developing. Mostly sunny. Southwest swell rising to 2 metres. \\nMonday: Southwest 10 knots. Mostly sunny. Southwest swell 2 metres. \\n\\nFor Waitemata Harbour: \\n\\nThursday: Sea breezes to 10 knots, easing to variable 5 knots this evening. Sea slight. Mainly fine. \\nFriday: Variable 5 knots. Northerly 10 knots developing in the morning. Sea slight. Cloudy periods, chance shower from morning. \\nSaturday: Variable 5 knots. Mostly sunny. \\nSunday: Westerly 10 knots developing. Mostly sunny. \\nMonday: Southwest 10 knots. Mostly sunny. \\n\\nFor Hauraki Gulf: \\n\\nThursday: Variable 5 knots. Sea breezes to 10 knots developing for a time this afternoon and evening. Sea slight. Mainly fine, chance afternoon shower. \\nFriday: Variable 5 knots. Northeast 10 knots developing in the morning and rising to 15 knots in the afternoon. Sea slight. Cloudy periods, chance morning or afternoon shower. \\nSaturday: Northerly 10 knots. Mostly sunny. Northeast swell half a metre developing. \\nSunday: Westerly 10 knots developing in the morning. Mostly sunny. Northeast swell half a metre. \\nMonday: Southwest 10 knots. Mostly sunny. Northeast swell half a metre. \\n\\nFor the area from Bream Head to Cape Colville: \\n\\nThursday: Variable 5 knots. Northeast 10 knots developing overnight. Sea slight. Mainly fine, chance afternoon shower. \\nFriday: Northeast 10 knots, rising to 15 knots in the morning. Sea slight. Cloudy periods, chance morning or afternoon shower. Northeast swell half a metre developing. \\nSaturday: Northerly 10 knots. Mostly sunny. Northeast swell rising to a metre. \\nSunday: Westerly 10 knots developing in the morning. Mostly sunny. Northeast swell 1 metre. \\nMonday: Southwest 10 knots turning northwest 10 knots for a time in the afternoon. Mostly sunny. Northeast swell 1 metre.'</li><li>'Outlook'</li></ol>\n"
      ],
      "text/latex": [
       "\\begin{enumerate*}\n",
       "\\item 'North Island: A few showers in the west, south of Hamilton. Fine elsewhere. Severe gale westerlies possible about Wairarapa. South Island: Rain in the west and south, heavy for a time. Fine elsewhere. Severe gale northwesterlies for the Canterbury High Country and further south.'\n",
       "\\item 'North Island: Fine, but cloudy periods in the west. Gale westerlies in Wairarapa, easing. South Island: Rain in the west and far south, clearing the south at night. Mainly fine elsewhere. Severe gale northwesterlies for the Canterbury High Country and further south.'\n",
       "\\item 'North Island: Fine, but cloudy periods in the west. South Island: Rain in the west, developing in the far south later. Mainly fine elsewhere. Severe gale northwesterlies for the Canterbury High Country and further south.'\n",
       "\\item 'A few showers with northerlies, changing southwest on Sunday. Cloudy periods on Monday as winds turn northerly.'\n",
       "\\item 'Cloudy periods and isolated showers.'\n",
       "\\item 'Mostly fine. A few cloudy areas.'\n",
       "\\item 'Fine today. Cloudy periods tomorrow, and patchy drizzle.'\n",
       "\\item 'Fine, apart from a few areas of morning cloud.'\n",
       "\\item 'Cloud increasing. Isolated showers, becoming more widespread tomorrow evening.'\n",
       "\\item 'Isolated showers turning to rain tomorrow, with heavy falls about the ranges.'\n",
       "\\item 'High cloud. Rain developing about Stewart Island tomorrow, with patchy falls for Otago and Southland. Northwest gales in exposed places tomorrow.'\n",
       "\\item 'Cloudy periods.'\n",
       "\\item 'Thursday : Variable 10 knots. Sea slight. Fair visibility in a few showers from afternoon. Friday : Northerly 10 knots. Sea slight. Fair visibility in isolated showers from morning, clearing afternoon.'\n",
       "\\item 'Outlook following 3 days: \\textbackslash{}nSaturday: Northeast 10 knots. Sunday: Westerly 15 knots developing. Monday: Westerly 15 knots.'\n",
       "\\item 'Thursday : Variable 10 knots. Sea slight. Southwest swell 2 metres easing,period 13 seconds. Fair visibility in showers, clearing afternoon. Friday :Variable 10 knots. Sea slight. Southwest swell 1 metre easing, period 12 seconds.'\n",
       "\\item 'Outlook following 3 days: \\textbackslash{}nSaturday: Northeast 15 knots. Sunday: Variable 10 knots but easterly 15 knots in the north. Moderate southwest swell developing. Monday: Variable 10 knots, but easterly 15 knots in the north. Moderate southwest swell.'\n",
       "\\item 'Manukau and Waitemata Harbours, Hauraki Gulf and Bream Head to Cape Colville.'\n",
       "\\item 'Situation\\textbackslash{}n\\textbackslash{}t                    A ridge of high pressure over New Zealand moves north as a front approaches the far south late today, then moves up the South Island during Friday and weakens. Another front is expected over the lower South Island late Friday, then remains slow moving there through the weekend, while a westerly flow dominates the rest of the country.'\n",
       "\\item 'Warning\\textbackslash{}n\\textbackslash{}t                    Nil'\n",
       "\\item 'ForecastFor Manukau Harbour: \\textbackslash{}n\\textbackslash{}nThursday: Southwest 10 knots easing to variable 5 knots this evening. Sea slight but choppy when wind opposes tide. Mainly fine, a few showers in the west. Southwest 2.5 metres swell gradually easing to 1.5 metres. \\textbackslash{}nFriday: Variable 5 knots. Northerly 10 knots developing in the morning. Sea slight but choppy when wind opposes tide. Cloudy periods, chance afternoon or evening shower. Southwest swell easing to half a metre. \\textbackslash{}nSaturday: Variable 5 knots. Mostly sunny. Southwest swell about half a metre. \\textbackslash{}nSunday: Westerly 10 knots developing. Mostly sunny. Southwest swell rising to 2 metres. \\textbackslash{}nMonday: Southwest 10 knots. Mostly sunny. Southwest swell 2 metres. \\textbackslash{}n\\textbackslash{}nFor Waitemata Harbour: \\textbackslash{}n\\textbackslash{}nThursday: Sea breezes to 10 knots, easing to variable 5 knots this evening. Sea slight. Mainly fine. \\textbackslash{}nFriday: Variable 5 knots. Northerly 10 knots developing in the morning. Sea slight. Cloudy periods, chance shower from morning. \\textbackslash{}nSaturday: Variable 5 knots. Mostly sunny. \\textbackslash{}nSunday: Westerly 10 knots developing. Mostly sunny. \\textbackslash{}nMonday: Southwest 10 knots. Mostly sunny. \\textbackslash{}n\\textbackslash{}nFor Hauraki Gulf: \\textbackslash{}n\\textbackslash{}nThursday: Variable 5 knots. Sea breezes to 10 knots developing for a time this afternoon and evening. Sea slight. Mainly fine, chance afternoon shower. \\textbackslash{}nFriday: Variable 5 knots. Northeast 10 knots developing in the morning and rising to 15 knots in the afternoon. Sea slight. Cloudy periods, chance morning or afternoon shower. \\textbackslash{}nSaturday: Northerly 10 knots. Mostly sunny. Northeast swell half a metre developing. \\textbackslash{}nSunday: Westerly 10 knots developing in the morning. Mostly sunny. Northeast swell half a metre. \\textbackslash{}nMonday: Southwest 10 knots. Mostly sunny. Northeast swell half a metre. \\textbackslash{}n\\textbackslash{}nFor the area from Bream Head to Cape Colville: \\textbackslash{}n\\textbackslash{}nThursday: Variable 5 knots. Northeast 10 knots developing overnight. Sea slight. Mainly fine, chance afternoon shower. \\textbackslash{}nFriday: Northeast 10 knots, rising to 15 knots in the morning. Sea slight. Cloudy periods, chance morning or afternoon shower. Northeast swell half a metre developing. \\textbackslash{}nSaturday: Northerly 10 knots. Mostly sunny. Northeast swell rising to a metre. \\textbackslash{}nSunday: Westerly 10 knots developing in the morning. Mostly sunny. Northeast swell 1 metre. \\textbackslash{}nMonday: Southwest 10 knots turning northwest 10 knots for a time in the afternoon. Mostly sunny. Northeast swell 1 metre.'\n",
       "\\item 'Outlook'\n",
       "\\end{enumerate*}\n"
      ],
      "text/markdown": [
       "1. 'North Island: A few showers in the west, south of Hamilton. Fine elsewhere. Severe gale westerlies possible about Wairarapa. South Island: Rain in the west and south, heavy for a time. Fine elsewhere. Severe gale northwesterlies for the Canterbury High Country and further south.'\n",
       "2. 'North Island: Fine, but cloudy periods in the west. Gale westerlies in Wairarapa, easing. South Island: Rain in the west and far south, clearing the south at night. Mainly fine elsewhere. Severe gale northwesterlies for the Canterbury High Country and further south.'\n",
       "3. 'North Island: Fine, but cloudy periods in the west. South Island: Rain in the west, developing in the far south later. Mainly fine elsewhere. Severe gale northwesterlies for the Canterbury High Country and further south.'\n",
       "4. 'A few showers with northerlies, changing southwest on Sunday. Cloudy periods on Monday as winds turn northerly.'\n",
       "5. 'Cloudy periods and isolated showers.'\n",
       "6. 'Mostly fine. A few cloudy areas.'\n",
       "7. 'Fine today. Cloudy periods tomorrow, and patchy drizzle.'\n",
       "8. 'Fine, apart from a few areas of morning cloud.'\n",
       "9. 'Cloud increasing. Isolated showers, becoming more widespread tomorrow evening.'\n",
       "10. 'Isolated showers turning to rain tomorrow, with heavy falls about the ranges.'\n",
       "11. 'High cloud. Rain developing about Stewart Island tomorrow, with patchy falls for Otago and Southland. Northwest gales in exposed places tomorrow.'\n",
       "12. 'Cloudy periods.'\n",
       "13. 'Thursday : Variable 10 knots. Sea slight. Fair visibility in a few showers from afternoon. Friday : Northerly 10 knots. Sea slight. Fair visibility in isolated showers from morning, clearing afternoon.'\n",
       "14. 'Outlook following 3 days: \\nSaturday: Northeast 10 knots. Sunday: Westerly 15 knots developing. Monday: Westerly 15 knots.'\n",
       "15. 'Thursday : Variable 10 knots. Sea slight. Southwest swell 2 metres easing,period 13 seconds. Fair visibility in showers, clearing afternoon. Friday :Variable 10 knots. Sea slight. Southwest swell 1 metre easing, period 12 seconds.'\n",
       "16. 'Outlook following 3 days: \\nSaturday: Northeast 15 knots. Sunday: Variable 10 knots but easterly 15 knots in the north. Moderate southwest swell developing. Monday: Variable 10 knots, but easterly 15 knots in the north. Moderate southwest swell.'\n",
       "17. 'Manukau and Waitemata Harbours, Hauraki Gulf and Bream Head to Cape Colville.'\n",
       "18. <span style=white-space:pre-wrap>'Situation\\n\\t                    A ridge of high pressure over New Zealand moves north as a front approaches the far south late today, then moves up the South Island during Friday and weakens. Another front is expected over the lower South Island late Friday, then remains slow moving there through the weekend, while a westerly flow dominates the rest of the country.'</span>\n",
       "19. <span style=white-space:pre-wrap>'Warning\\n\\t                    Nil'</span>\n",
       "20. 'ForecastFor Manukau Harbour: \\n\\nThursday: Southwest 10 knots easing to variable 5 knots this evening. Sea slight but choppy when wind opposes tide. Mainly fine, a few showers in the west. Southwest 2.5 metres swell gradually easing to 1.5 metres. \\nFriday: Variable 5 knots. Northerly 10 knots developing in the morning. Sea slight but choppy when wind opposes tide. Cloudy periods, chance afternoon or evening shower. Southwest swell easing to half a metre. \\nSaturday: Variable 5 knots. Mostly sunny. Southwest swell about half a metre. \\nSunday: Westerly 10 knots developing. Mostly sunny. Southwest swell rising to 2 metres. \\nMonday: Southwest 10 knots. Mostly sunny. Southwest swell 2 metres. \\n\\nFor Waitemata Harbour: \\n\\nThursday: Sea breezes to 10 knots, easing to variable 5 knots this evening. Sea slight. Mainly fine. \\nFriday: Variable 5 knots. Northerly 10 knots developing in the morning. Sea slight. Cloudy periods, chance shower from morning. \\nSaturday: Variable 5 knots. Mostly sunny. \\nSunday: Westerly 10 knots developing. Mostly sunny. \\nMonday: Southwest 10 knots. Mostly sunny. \\n\\nFor Hauraki Gulf: \\n\\nThursday: Variable 5 knots. Sea breezes to 10 knots developing for a time this afternoon and evening. Sea slight. Mainly fine, chance afternoon shower. \\nFriday: Variable 5 knots. Northeast 10 knots developing in the morning and rising to 15 knots in the afternoon. Sea slight. Cloudy periods, chance morning or afternoon shower. \\nSaturday: Northerly 10 knots. Mostly sunny. Northeast swell half a metre developing. \\nSunday: Westerly 10 knots developing in the morning. Mostly sunny. Northeast swell half a metre. \\nMonday: Southwest 10 knots. Mostly sunny. Northeast swell half a metre. \\n\\nFor the area from Bream Head to Cape Colville: \\n\\nThursday: Variable 5 knots. Northeast 10 knots developing overnight. Sea slight. Mainly fine, chance afternoon shower. \\nFriday: Northeast 10 knots, rising to 15 knots in the morning. Sea slight. Cloudy periods, chance morning or afternoon shower. Northeast swell half a metre developing. \\nSaturday: Northerly 10 knots. Mostly sunny. Northeast swell rising to a metre. \\nSunday: Westerly 10 knots developing in the morning. Mostly sunny. Northeast swell 1 metre. \\nMonday: Southwest 10 knots turning northwest 10 knots for a time in the afternoon. Mostly sunny. Northeast swell 1 metre.'\n",
       "21. 'Outlook'\n",
       "\n",
       "\n"
      ],
      "text/plain": [
       " [1] \"North Island: A few showers in the west, south of Hamilton. Fine elsewhere. Severe gale westerlies possible about Wairarapa. South Island: Rain in the west and south, heavy for a time. Fine elsewhere. Severe gale northwesterlies for the Canterbury High Country and further south.\"                                                                                                                                                                                                                                                                                                                                                                                                                                                                                                                                                                                                                                                                                                                                                                                                                                                                                                                                                                                                                                                                                                                                                                                                                                                                                                                                                                                                                                                                                                                                                                                                                                                                                                                                                                                                                                                                                                                                                                                                                                                                                                                                                                   \n",
       " [2] \"North Island: Fine, but cloudy periods in the west. Gale westerlies in Wairarapa, easing. South Island: Rain in the west and far south, clearing the south at night. Mainly fine elsewhere. Severe gale northwesterlies for the Canterbury High Country and further south.\"                                                                                                                                                                                                                                                                                                                                                                                                                                                                                                                                                                                                                                                                                                                                                                                                                                                                                                                                                                                                                                                                                                                                                                                                                                                                                                                                                                                                                                                                                                                                                                                                                                                                                                                                                                                                                                                                                                                                                                                                                                                                                                                                                                                \n",
       " [3] \"North Island: Fine, but cloudy periods in the west. South Island: Rain in the west, developing in the far south later. Mainly fine elsewhere. Severe gale northwesterlies for the Canterbury High Country and further south.\"                                                                                                                                                                                                                                                                                                                                                                                                                                                                                                                                                                                                                                                                                                                                                                                                                                                                                                                                                                                                                                                                                                                                                                                                                                                                                                                                                                                                                                                                                                                                                                                                                                                                                                                                                                                                                                                                                                                                                                                                                                                                                                                                                                                                                              \n",
       " [4] \"A few showers with northerlies, changing southwest on Sunday. Cloudy periods on Monday as winds turn northerly.\"                                                                                                                                                                                                                                                                                                                                                                                                                                                                                                                                                                                                                                                                                                                                                                                                                                                                                                                                                                                                                                                                                                                                                                                                                                                                                                                                                                                                                                                                                                                                                                                                                                                                                                                                                                                                                                                                                                                                                                                                                                                                                                                                                                                                                                                                                                                                           \n",
       " [5] \"Cloudy periods and isolated showers.\"                                                                                                                                                                                                                                                                                                                                                                                                                                                                                                                                                                                                                                                                                                                                                                                                                                                                                                                                                                                                                                                                                                                                                                                                                                                                                                                                                                                                                                                                                                                                                                                                                                                                                                                                                                                                                                                                                                                                                                                                                                                                                                                                                                                                                                                                                                                                                                                                                      \n",
       " [6] \"Mostly fine. A few cloudy areas.\"                                                                                                                                                                                                                                                                                                                                                                                                                                                                                                                                                                                                                                                                                                                                                                                                                                                                                                                                                                                                                                                                                                                                                                                                                                                                                                                                                                                                                                                                                                                                                                                                                                                                                                                                                                                                                                                                                                                                                                                                                                                                                                                                                                                                                                                                                                                                                                                                                          \n",
       " [7] \"Fine today. Cloudy periods tomorrow, and patchy drizzle.\"                                                                                                                                                                                                                                                                                                                                                                                                                                                                                                                                                                                                                                                                                                                                                                                                                                                                                                                                                                                                                                                                                                                                                                                                                                                                                                                                                                                                                                                                                                                                                                                                                                                                                                                                                                                                                                                                                                                                                                                                                                                                                                                                                                                                                                                                                                                                                                                                  \n",
       " [8] \"Fine, apart from a few areas of morning cloud.\"                                                                                                                                                                                                                                                                                                                                                                                                                                                                                                                                                                                                                                                                                                                                                                                                                                                                                                                                                                                                                                                                                                                                                                                                                                                                                                                                                                                                                                                                                                                                                                                                                                                                                                                                                                                                                                                                                                                                                                                                                                                                                                                                                                                                                                                                                                                                                                                                            \n",
       " [9] \"Cloud increasing. Isolated showers, becoming more widespread tomorrow evening.\"                                                                                                                                                                                                                                                                                                                                                                                                                                                                                                                                                                                                                                                                                                                                                                                                                                                                                                                                                                                                                                                                                                                                                                                                                                                                                                                                                                                                                                                                                                                                                                                                                                                                                                                                                                                                                                                                                                                                                                                                                                                                                                                                                                                                                                                                                                                                                                            \n",
       "[10] \"Isolated showers turning to rain tomorrow, with heavy falls about the ranges.\"                                                                                                                                                                                                                                                                                                                                                                                                                                                                                                                                                                                                                                                                                                                                                                                                                                                                                                                                                                                                                                                                                                                                                                                                                                                                                                                                                                                                                                                                                                                                                                                                                                                                                                                                                                                                                                                                                                                                                                                                                                                                                                                                                                                                                                                                                                                                                                             \n",
       "[11] \"High cloud. Rain developing about Stewart Island tomorrow, with patchy falls for Otago and Southland. Northwest gales in exposed places tomorrow.\"                                                                                                                                                                                                                                                                                                                                                                                                                                                                                                                                                                                                                                                                                                                                                                                                                                                                                                                                                                                                                                                                                                                                                                                                                                                                                                                                                                                                                                                                                                                                                                                                                                                                                                                                                                                                                                                                                                                                                                                                                                                                                                                                                                                                                                                                                                         \n",
       "[12] \"Cloudy periods.\"                                                                                                                                                                                                                                                                                                                                                                                                                                                                                                                                                                                                                                                                                                                                                                                                                                                                                                                                                                                                                                                                                                                                                                                                                                                                                                                                                                                                                                                                                                                                                                                                                                                                                                                                                                                                                                                                                                                                                                                                                                                                                                                                                                                                                                                                                                                                                                                                                                           \n",
       "[13] \"Thursday : Variable 10 knots. Sea slight. Fair visibility in a few showers from afternoon. Friday : Northerly 10 knots. Sea slight. Fair visibility in isolated showers from morning, clearing afternoon.\"                                                                                                                                                                                                                                                                                                                                                                                                                                                                                                                                                                                                                                                                                                                                                                                                                                                                                                                                                                                                                                                                                                                                                                                                                                                                                                                                                                                                                                                                                                                                                                                                                                                                                                                                                                                                                                                                                                                                                                                                                                                                                                                                                                                                                                                 \n",
       "[14] \"Outlook following 3 days: \\nSaturday: Northeast 10 knots. Sunday: Westerly 15 knots developing. Monday: Westerly 15 knots.\"                                                                                                                                                                                                                                                                                                                                                                                                                                                                                                                                                                                                                                                                                                                                                                                                                                                                                                                                                                                                                                                                                                                                                                                                                                                                                                                                                                                                                                                                                                                                                                                                                                                                                                                                                                                                                                                                                                                                                                                                                                                                                                                                                                                                                                                                                                                                \n",
       "[15] \"Thursday : Variable 10 knots. Sea slight. Southwest swell 2 metres easing,period 13 seconds. Fair visibility in showers, clearing afternoon. Friday :Variable 10 knots. Sea slight. Southwest swell 1 metre easing, period 12 seconds.\"                                                                                                                                                                                                                                                                                                                                                                                                                                                                                                                                                                                                                                                                                                                                                                                                                                                                                                                                                                                                                                                                                                                                                                                                                                                                                                                                                                                                                                                                                                                                                                                                                                                                                                                                                                                                                                                                                                                                                                                                                                                                                                                                                                                                                    \n",
       "[16] \"Outlook following 3 days: \\nSaturday: Northeast 15 knots. Sunday: Variable 10 knots but easterly 15 knots in the north. Moderate southwest swell developing. Monday: Variable 10 knots, but easterly 15 knots in the north. Moderate southwest swell.\"                                                                                                                                                                                                                                                                                                                                                                                                                                                                                                                                                                                                                                                                                                                                                                                                                                                                                                                                                                                                                                                                                                                                                                                                                                                                                                                                                                                                                                                                                                                                                                                                                                                                                                                                                                                                                                                                                                                                                                                                                                                                                                                                                                                                     \n",
       "[17] \"Manukau and Waitemata Harbours, Hauraki Gulf and Bream Head to Cape Colville.\"                                                                                                                                                                                                                                                                                                                                                                                                                                                                                                                                                                                                                                                                                                                                                                                                                                                                                                                                                                                                                                                                                                                                                                                                                                                                                                                                                                                                                                                                                                                                                                                                                                                                                                                                                                                                                                                                                                                                                                                                                                                                                                                                                                                                                                                                                                                                                                             \n",
       "[18] \"Situation\\n\\t                    A ridge of high pressure over New Zealand moves north as a front approaches the far south late today, then moves up the South Island during Friday and weakens. Another front is expected over the lower South Island late Friday, then remains slow moving there through the weekend, while a westerly flow dominates the rest of the country.\"                                                                                                                                                                                                                                                                                                                                                                                                                                                                                                                                                                                                                                                                                                                                                                                                                                                                                                                                                                                                                                                                                                                                                                                                                                                                                                                                                                                                                                                                                                                                                                                                                                                                                                                                                                                                                                                                                                                                                                                                                                                                          \n",
       "[19] \"Warning\\n\\t                    Nil\"                                                                                                                                                                                                                                                                                                                                                                                                                                                                                                                                                                                                                                                                                                                                                                                                                                                                                                                                                                                                                                                                                                                                                                                                                                                                                                                                                                                                                                                                                                                                                                                                                                                                                                                                                                                                                                                                                                                                                                                                                                                                                                                                                                                                                                                                                                                                                                                                                        \n",
       "[20] \"ForecastFor Manukau Harbour: \\n\\nThursday: Southwest 10 knots easing to variable 5 knots this evening. Sea slight but choppy when wind opposes tide. Mainly fine, a few showers in the west. Southwest 2.5 metres swell gradually easing to 1.5 metres. \\nFriday: Variable 5 knots. Northerly 10 knots developing in the morning. Sea slight but choppy when wind opposes tide. Cloudy periods, chance afternoon or evening shower. Southwest swell easing to half a metre. \\nSaturday: Variable 5 knots. Mostly sunny. Southwest swell about half a metre. \\nSunday: Westerly 10 knots developing. Mostly sunny. Southwest swell rising to 2 metres. \\nMonday: Southwest 10 knots. Mostly sunny. Southwest swell 2 metres. \\n\\nFor Waitemata Harbour: \\n\\nThursday: Sea breezes to 10 knots, easing to variable 5 knots this evening. Sea slight. Mainly fine. \\nFriday: Variable 5 knots. Northerly 10 knots developing in the morning. Sea slight. Cloudy periods, chance shower from morning. \\nSaturday: Variable 5 knots. Mostly sunny. \\nSunday: Westerly 10 knots developing. Mostly sunny. \\nMonday: Southwest 10 knots. Mostly sunny. \\n\\nFor Hauraki Gulf: \\n\\nThursday: Variable 5 knots. Sea breezes to 10 knots developing for a time this afternoon and evening. Sea slight. Mainly fine, chance afternoon shower. \\nFriday: Variable 5 knots. Northeast 10 knots developing in the morning and rising to 15 knots in the afternoon. Sea slight. Cloudy periods, chance morning or afternoon shower. \\nSaturday: Northerly 10 knots. Mostly sunny. Northeast swell half a metre developing. \\nSunday: Westerly 10 knots developing in the morning. Mostly sunny. Northeast swell half a metre. \\nMonday: Southwest 10 knots. Mostly sunny. Northeast swell half a metre. \\n\\nFor the area from Bream Head to Cape Colville: \\n\\nThursday: Variable 5 knots. Northeast 10 knots developing overnight. Sea slight. Mainly fine, chance afternoon shower. \\nFriday: Northeast 10 knots, rising to 15 knots in the morning. Sea slight. Cloudy periods, chance morning or afternoon shower. Northeast swell half a metre developing. \\nSaturday: Northerly 10 knots. Mostly sunny. Northeast swell rising to a metre. \\nSunday: Westerly 10 knots developing in the morning. Mostly sunny. Northeast swell 1 metre. \\nMonday: Southwest 10 knots turning northwest 10 knots for a time in the afternoon. Mostly sunny. Northeast swell 1 metre.\"\n",
       "[21] \"Outlook\"                                                                                                                                                                                                                                                                                                                                                                                                                                                                                                                                                                                                                                                                                                                                                                                                                                                                                                                                                                                                                                                                                                                                                                                                                                                                                                                                                                                                                                                                                                                                                                                                                                                                                                                                                                                                                                                                                                                                                                                                                                                                                                                                                                                                                                                                                                                                                                                                                                                   "
      ]
     },
     "metadata": {},
     "output_type": "display_data"
    }
   ],
   "source": [
    "url_titles <- \"https://www.tvnz.co.nz/one-news/weather-forecast\" # this is the base url from where the scraping starts\n",
    "read_html(url_titles)%>%\n",
    "    html_nodes(\".forecast\")%>%\n",
    "    html_nodes(\"p\")%>%\n",
    "    html_text() %>%\n",
    "    str_trim()"
   ]
  },
  {
   "cell_type": "markdown",
   "metadata": {},
   "source": [
    "read brief introduction of weather from \"https://www.tvnz.co.nz/one-news/weather-forecast\""
   ]
  },
  {
   "cell_type": "code",
   "execution_count": 8,
   "metadata": {},
   "outputs": [
    {
     "data": {
      "text/html": [
       "'15°'"
      ],
      "text/latex": [
       "'15°'"
      ],
      "text/markdown": [
       "'15°'"
      ],
      "text/plain": [
       "[1] \"15°\""
      ]
     },
     "metadata": {},
     "output_type": "display_data"
    }
   ],
   "source": [
    "read_html(\"https://www.tvnz.co.nz/one-news/weather-forecast.auckland.html\")%>%\n",
    "           html_node(\".forecast.observation.active\")%>%\n",
    "           html_node(\".current\")%>%\n",
    "           html_text()"
   ]
  },
  {
   "cell_type": "markdown",
   "metadata": {},
   "source": [
    "read auckland's current temperature form \"https://www.tvnz.co.nz/one-news/weather-forecast.auckland.html\""
   ]
  },
  {
   "cell_type": "code",
   "execution_count": 11,
   "metadata": {},
   "outputs": [
    {
     "data": {
      "text/html": [
       "'Thu Oct 01 06:56:00 NZDT 2020'"
      ],
      "text/latex": [
       "'Thu Oct 01 06:56:00 NZDT 2020'"
      ],
      "text/markdown": [
       "'Thu Oct 01 06:56:00 NZDT 2020'"
      ],
      "text/plain": [
       "[1] \"Thu Oct 01 06:56:00 NZDT 2020\""
      ]
     },
     "metadata": {},
     "output_type": "display_data"
    }
   ],
   "source": [
    "read_html(\"https://www.tvnz.co.nz/one-news/weather-forecast.auckland.html\")%>%\n",
    "           html_node(\".forecast.observation.active\")%>%\n",
    "           html_node(\".sunrise\")%>%\n",
    "           html_node(\"span\")%>%\n",
    "           html_text()"
   ]
  },
  {
   "cell_type": "markdown",
   "metadata": {},
   "source": [
    "read auckland's today's sunrise time from \"https://www.tvnz.co.nz/one-news/weather-forecast.auckland.html\""
   ]
  },
  {
   "cell_type": "code",
   "execution_count": 13,
   "metadata": {},
   "outputs": [
    {
     "data": {
      "text/html": [
       "'SSW'"
      ],
      "text/latex": [
       "'SSW'"
      ],
      "text/markdown": [
       "'SSW'"
      ],
      "text/plain": [
       "[1] \"SSW\""
      ]
     },
     "metadata": {},
     "output_type": "display_data"
    }
   ],
   "source": [
    "read_html(\"https://www.tvnz.co.nz/one-news/weather-forecast.auckland.html\")%>%\n",
    "           html_node(\".forecast.observation.active\")%>%\n",
    "           html_node(\".windDirection\")%>%\n",
    "           html_text()"
   ]
  },
  {
   "cell_type": "markdown",
   "metadata": {},
   "source": [
    "read auckland's today's winddirection from https://www.tvnz.co.nz/one-news/weather-forecast.auckland.html"
   ]
  },
  {
   "cell_type": "code",
   "execution_count": 35,
   "metadata": {},
   "outputs": [
    {
     "data": {
      "text/html": [
       "'17°'"
      ],
      "text/latex": [
       "'17°'"
      ],
      "text/markdown": [
       "'17°'"
      ],
      "text/plain": [
       "[1] \"17°\""
      ]
     },
     "metadata": {},
     "output_type": "display_data"
    }
   ],
   "source": [
    "read_html(\"https://www.tvnz.co.nz/one-news/weather-forecast.auckland.html\")%>%\n",
    "           html_node(\".forecast.observation.active\")%>%\n",
    "           html_node(\".max\")%>%\n",
    "           html_text()"
   ]
  },
  {
   "cell_type": "markdown",
   "metadata": {},
   "source": [
    "read auckland's today's highest temperature from https://www.tvnz.co.nz/one-news/weather-forecast.auckland.html"
   ]
  },
  {
   "cell_type": "code",
   "execution_count": 15,
   "metadata": {},
   "outputs": [
    {
     "data": {
      "text/html": [
       "'7°'"
      ],
      "text/latex": [
       "'7°'"
      ],
      "text/markdown": [
       "'7°'"
      ],
      "text/plain": [
       "[1] \"7°\""
      ]
     },
     "metadata": {},
     "output_type": "display_data"
    }
   ],
   "source": [
    "read_html(\"https://www.tvnz.co.nz/one-news/weather-forecast.auckland.html\")%>%\n",
    "           html_node(\".forecast.observation.active\")%>%\n",
    "           html_node(\".min\")%>%\n",
    "           html_text()"
   ]
  },
  {
   "cell_type": "markdown",
   "metadata": {},
   "source": [
    "read auckland's today's lowest temperature from https://www.tvnz.co.nz/one-news/weather-forecast.auckland.html"
   ]
  },
  {
   "cell_type": "markdown",
   "metadata": {},
   "source": [
    "### Task (b): wrangle it (5 marks)\n",
    "\n",
    "\n",
    "Working on the page from task (a), transform the data you collected into relational data model (that is, one or more data frames). WARNING: you will need to think and motivate how you are doing this in terms of the **data model** you are trying to build; just throwing everything in a table is not enough."
   ]
  },
  {
   "cell_type": "code",
   "execution_count": 2,
   "metadata": {},
   "outputs": [],
   "source": [
    "weather_difference <- function(city){   \n",
    "    url_city <- glue(\"https://www.tvnz.co.nz/one-news/weather-forecast.{city}.html\")\n",
    "    list_of_regions <- \n",
    "    url_main <- \"https://www.tvnz.co.nz/one-news/weather-forecast\"\n",
    "    read_html(url_main)%>%\n",
    "        html_nodes(\".locationSelectDropdownSubItemsHolder\")%>%\n",
    "        html_nodes(\"ul\")%>%\n",
    "        html_nodes(\"li\")%>%\n",
    "        html_text() \n",
    "    max_temp_today = read_html(url_city)%>%\n",
    "                       html_node(\".forecast.observation.active\")%>%\n",
    "                       html_node(\".max\")%>%\n",
    "                       html_text()\n",
    "    max_temp_today_b = str_sub(max_temp_today, 1, -2)\n",
    "    max_temp_today_c = as.numeric(max_temp_today_b)\n",
    "    min_temp_today = read_html(url_city)%>%\n",
    "                       html_node(\".forecast.observation.active\")%>%\n",
    "                       html_node(\".min\")%>%\n",
    "                       html_text()\n",
    "    min_temp_today_b = str_sub(min_temp_today, 1, -2)\n",
    "    min_temp_today_c = as.numeric(min_temp_today_b)\n",
    "    \n",
    "    max_temp_tomorrow = read_html(url_city)%>%\n",
    "                       html_node(xpath = paste(\"//div[@data-id = \",Sys.Date()+1,\"]\",sep = \"'\"))%>%\n",
    "                       html_node(\".max\")%>%\n",
    "                       html_text()\n",
    "    max_temp_tomorrow_b = str_sub(max_temp_tomorrow, 1, -2)\n",
    "    max_temp_tomorrow_c = as.numeric(max_temp_tomorrow_b)\n",
    "    min_temp_tomorrow = read_html(url_city)%>%\n",
    "                       html_node(xpath = paste(\"//div[@data-id = \",Sys.Date()+1,\"]\",sep = \"'\"))%>%\n",
    "                       html_node(\".min\")%>%\n",
    "                       html_text()\n",
    "    min_temp_tomorrow_b = str_sub(min_temp_tomorrow, 1, -2)\n",
    "    min_temp_tomorrow_c = as.numeric(min_temp_tomorrow_b)\n",
    "    \n",
    "    \n",
    "    the_day_after_tomorrow_max_temp = read_html(url_city)%>%\n",
    "                       html_node(xpath = paste(\"//div[@data-id = \",Sys.Date()+2,\"]\",sep = \"'\"))%>%\n",
    "                       html_node(\".max\")%>%\n",
    "                       html_text()\n",
    "    the_day_after_tomorrow_max_temp_b = str_sub(the_day_after_tomorrow_max_temp, 1, -2)\n",
    "    the_day_after_tomorrow_max_temp_c = as.numeric(the_day_after_tomorrow_max_temp_b)\n",
    "    the_day_after_tomorrow_min_temp = read_html(url_city)%>%\n",
    "                       html_node(xpath = paste(\"//div[@data-id = \",Sys.Date()+2,\"]\",sep = \"'\"))%>%\n",
    "                       html_node(\".min\")%>%\n",
    "                       html_text()\n",
    "    the_day_after_tomorrow_min_temp_b = str_sub(the_day_after_tomorrow_min_temp, 1, -2)\n",
    "    the_day_after_tomorrow_min_temp_c = as.numeric(the_day_after_tomorrow_min_temp_b)\n",
    "    \n",
    "       \n",
    "    weather_diff <- tibble(name = city,                   \n",
    "                       max_temp_today = max_temp_today,\n",
    "                       \n",
    "                       min_temp_today = min_temp_today,\n",
    "                           \n",
    "                    today_temp_diff = max_temp_today_c - min_temp_today_c,\n",
    "                    \n",
    "                       max_temp_tomorrow = max_temp_tomorrow,\n",
    "                    \n",
    "                       min_temp_tomorrow = min_temp_tomorrow,\n",
    "                        \n",
    "                    tomorrow_temp_diff = max_temp_tomorrow_c - min_temp_tomorrow_c,\n",
    "                    \n",
    "                       the_day_after_tomorrow_max_temp = the_day_after_tomorrow_max_temp,\n",
    "                    \n",
    "                       the_day_after_tomorrow_min_temp = the_day_after_tomorrow_min_temp,\n",
    "                       \n",
    "                    the_day_after_tomorrow_temp_diff = the_day_after_tomorrow_max_temp_c - the_day_after_tomorrow_min_temp_c,\n",
    "                        \n",
    "                       \n",
    "                     ) \n",
    "  \n",
    "  return(weather_diff)\n",
    "}"
   ]
  },
  {
   "cell_type": "code",
   "execution_count": 5,
   "metadata": {},
   "outputs": [
    {
     "data": {
      "text/html": [
       "<table>\n",
       "<caption>A tibble: 1 × 10</caption>\n",
       "<thead>\n",
       "\t<tr><th scope=col>name</th><th scope=col>max_temp_today</th><th scope=col>min_temp_today</th><th scope=col>today_temp_diff</th><th scope=col>max_temp_tomorrow</th><th scope=col>min_temp_tomorrow</th><th scope=col>tomorrow_temp_diff</th><th scope=col>the_day_after_tomorrow_max_temp</th><th scope=col>the_day_after_tomorrow_min_temp</th><th scope=col>the_day_after_tomorrow_temp_diff</th></tr>\n",
       "\t<tr><th scope=col>&lt;chr&gt;</th><th scope=col>&lt;chr&gt;</th><th scope=col>&lt;chr&gt;</th><th scope=col>&lt;dbl&gt;</th><th scope=col>&lt;chr&gt;</th><th scope=col>&lt;chr&gt;</th><th scope=col>&lt;dbl&gt;</th><th scope=col>&lt;chr&gt;</th><th scope=col>&lt;chr&gt;</th><th scope=col>&lt;dbl&gt;</th></tr>\n",
       "</thead>\n",
       "<tbody>\n",
       "\t<tr><td>christchurch</td><td>16°</td><td>1°</td><td>15</td><td>19°</td><td>8°</td><td>11</td><td>22°</td><td>13°</td><td>9</td></tr>\n",
       "</tbody>\n",
       "</table>\n"
      ],
      "text/latex": [
       "A tibble: 1 × 10\n",
       "\\begin{tabular}{llllllllll}\n",
       " name & max\\_temp\\_today & min\\_temp\\_today & today\\_temp\\_diff & max\\_temp\\_tomorrow & min\\_temp\\_tomorrow & tomorrow\\_temp\\_diff & the\\_day\\_after\\_tomorrow\\_max\\_temp & the\\_day\\_after\\_tomorrow\\_min\\_temp & the\\_day\\_after\\_tomorrow\\_temp\\_diff\\\\\n",
       " <chr> & <chr> & <chr> & <dbl> & <chr> & <chr> & <dbl> & <chr> & <chr> & <dbl>\\\\\n",
       "\\hline\n",
       "\t christchurch & 16° & 1° & 15 & 19° & 8° & 11 & 22° & 13° & 9\\\\\n",
       "\\end{tabular}\n"
      ],
      "text/markdown": [
       "\n",
       "A tibble: 1 × 10\n",
       "\n",
       "| name &lt;chr&gt; | max_temp_today &lt;chr&gt; | min_temp_today &lt;chr&gt; | today_temp_diff &lt;dbl&gt; | max_temp_tomorrow &lt;chr&gt; | min_temp_tomorrow &lt;chr&gt; | tomorrow_temp_diff &lt;dbl&gt; | the_day_after_tomorrow_max_temp &lt;chr&gt; | the_day_after_tomorrow_min_temp &lt;chr&gt; | the_day_after_tomorrow_temp_diff &lt;dbl&gt; |\n",
       "|---|---|---|---|---|---|---|---|---|---|\n",
       "| christchurch | 16° | 1° | 15 | 19° | 8° | 11 | 22° | 13° | 9 |\n",
       "\n"
      ],
      "text/plain": [
       "  name         max_temp_today min_temp_today today_temp_diff max_temp_tomorrow\n",
       "1 christchurch 16°           1°            15              19°             \n",
       "  min_temp_tomorrow tomorrow_temp_diff the_day_after_tomorrow_max_temp\n",
       "1 8°               11                 22°                           \n",
       "  the_day_after_tomorrow_min_temp the_day_after_tomorrow_temp_diff\n",
       "1 13°                            9                               "
      ]
     },
     "metadata": {},
     "output_type": "display_data"
    }
   ],
   "source": [
    "weather_difference(\"christchurch\")"
   ]
  },
  {
   "cell_type": "markdown",
   "metadata": {},
   "source": [
    "get today, tomorrow, and the day after tomorrow's max temperature, min temperature and temperature difference.\n",
    "using stringr to deal with temperature strings."
   ]
  },
  {
   "cell_type": "markdown",
   "metadata": {},
   "source": [
    "### Task (c): automate it (5 marks)\n",
    "\n",
    "Now it's the time to scrape everything else in the website. Turn your code for tasks (a) and (b) into a function and using `purrr` (and its `map_` functions, possibly in combination with `possibly`) apply that function to all the pages you are interested in (as we have done in lab 6); the output of the task should be a relation dataset (i.e., one or more dataframes, and if more than one, explicit their relationships)."
   ]
  },
  {
   "cell_type": "code",
   "execution_count": null,
   "metadata": {},
   "outputs": [],
   "source": [
    "city_link <- read(\"https://www.tvnz.co.nz/one-news/weather-forecast\") %>%\n",
    "html_node(\".locationSelectDropdownSubItems\") %>%\n",
    "html_node(\"li\")\n",
    "html_attr(\"href\")\n"
   ]
  },
  {
   "cell_type": "markdown",
   "metadata": {},
   "source": [
    "get the link of cities' html page from https://www.tvnz.co.nz/one-news/weather-forecast"
   ]
  },
  {
   "cell_type": "code",
   "execution_count": null,
   "metadata": {},
   "outputs": [],
   "source": [
    "get_temperature_safe <- purrr::possibly(.f = weather_difference,\n",
    "                                   otherwise = NA_character_)"
   ]
  },
  {
   "cell_type": "markdown",
   "metadata": {},
   "source": [
    "to make get weather difference function more safe"
   ]
  },
  {
   "cell_type": "code",
   "execution_count": null,
   "metadata": {},
   "outputs": [],
   "source": [
    "df %<>%\n",
    "  mutate(Cities = map_chr(city_link, get_temperature_safe))\n",
    "\n",
    "df"
   ]
  },
  {
   "cell_type": "markdown",
   "metadata": {},
   "source": [
    "### Task (d): plot it (2 marks)\n",
    "\n",
    "Use graphics (via `ggplot`) to represent the data you collected in a meaningful way."
   ]
  },
  {
   "cell_type": "code",
   "execution_count": 6,
   "metadata": {},
   "outputs": [],
   "source": [
    "library(ggplot2)"
   ]
  },
  {
   "cell_type": "code",
   "execution_count": 5,
   "metadata": {},
   "outputs": [
    {
     "data": {
      "text/html": [
       "<table>\n",
       "<caption>A tibble: 1 × 10</caption>\n",
       "<thead>\n",
       "\t<tr><th scope=col>name</th><th scope=col>max_temp_today</th><th scope=col>min_temp_today</th><th scope=col>today_temp_diff</th><th scope=col>max_temp_tomorrow</th><th scope=col>min_temp_tomorrow</th><th scope=col>tomorrow_temp_diff</th><th scope=col>the_day_after_tomorrow_max_temp</th><th scope=col>the_day_after_tomorrow_min_temp</th><th scope=col>the_day_after_tomorrow_temp_diff</th></tr>\n",
       "\t<tr><th scope=col>&lt;chr&gt;</th><th scope=col>&lt;chr&gt;</th><th scope=col>&lt;chr&gt;</th><th scope=col>&lt;dbl&gt;</th><th scope=col>&lt;chr&gt;</th><th scope=col>&lt;chr&gt;</th><th scope=col>&lt;dbl&gt;</th><th scope=col>&lt;chr&gt;</th><th scope=col>&lt;chr&gt;</th><th scope=col>&lt;dbl&gt;</th></tr>\n",
       "</thead>\n",
       "<tbody>\n",
       "\t<tr><td>christchurch</td><td>15°</td><td>1°</td><td>14</td><td>19°</td><td>8°</td><td>11</td><td>22°</td><td>12°</td><td>10</td></tr>\n",
       "</tbody>\n",
       "</table>\n"
      ],
      "text/latex": [
       "A tibble: 1 × 10\n",
       "\\begin{tabular}{llllllllll}\n",
       " name & max\\_temp\\_today & min\\_temp\\_today & today\\_temp\\_diff & max\\_temp\\_tomorrow & min\\_temp\\_tomorrow & tomorrow\\_temp\\_diff & the\\_day\\_after\\_tomorrow\\_max\\_temp & the\\_day\\_after\\_tomorrow\\_min\\_temp & the\\_day\\_after\\_tomorrow\\_temp\\_diff\\\\\n",
       " <chr> & <chr> & <chr> & <dbl> & <chr> & <chr> & <dbl> & <chr> & <chr> & <dbl>\\\\\n",
       "\\hline\n",
       "\t christchurch & 15° & 1° & 14 & 19° & 8° & 11 & 22° & 12° & 10\\\\\n",
       "\\end{tabular}\n"
      ],
      "text/markdown": [
       "\n",
       "A tibble: 1 × 10\n",
       "\n",
       "| name &lt;chr&gt; | max_temp_today &lt;chr&gt; | min_temp_today &lt;chr&gt; | today_temp_diff &lt;dbl&gt; | max_temp_tomorrow &lt;chr&gt; | min_temp_tomorrow &lt;chr&gt; | tomorrow_temp_diff &lt;dbl&gt; | the_day_after_tomorrow_max_temp &lt;chr&gt; | the_day_after_tomorrow_min_temp &lt;chr&gt; | the_day_after_tomorrow_temp_diff &lt;dbl&gt; |\n",
       "|---|---|---|---|---|---|---|---|---|---|\n",
       "| christchurch | 15° | 1° | 14 | 19° | 8° | 11 | 22° | 12° | 10 |\n",
       "\n"
      ],
      "text/plain": [
       "  name         max_temp_today min_temp_today today_temp_diff max_temp_tomorrow\n",
       "1 christchurch 15°           1°            14              19°             \n",
       "  min_temp_tomorrow tomorrow_temp_diff the_day_after_tomorrow_max_temp\n",
       "1 8°               11                 22°                           \n",
       "  the_day_after_tomorrow_min_temp the_day_after_tomorrow_temp_diff\n",
       "1 12°                            10                              "
      ]
     },
     "metadata": {},
     "output_type": "display_data"
    }
   ],
   "source": [
    "dataframe <- weather_difference(\"christchurch\")\n",
    "dataframe"
   ]
  },
  {
   "cell_type": "code",
   "execution_count": 23,
   "metadata": {},
   "outputs": [
    {
     "name": "stderr",
     "output_type": "stream",
     "text": [
      "geom_path: Each group consists of only one observation. Do you need to adjust\n",
      "the group aesthetic?\n",
      "\n"
     ]
    },
    {
     "data": {
      "image/png": "[encoded data removed]",
      "text/plain": [
       "plot without title"
      ]
     },
     "metadata": {
      "image/png": {
       "height": 420,
       "width": 420
      }
     },
     "output_type": "display_data"
    }
   ],
   "source": [
    "days = c(\"today\", \"tommorrow\", \"the day after tomorrow\")\n",
    "temperature = c(dataframe[[4]], dataframe[[7]], dataframe[[10]])\n",
    "tgg = data.frame(days, temperature)\n",
    "ggplot(tgg, aes(\n",
    "x = days,\n",
    "y = temperature)) +\n",
    "geom_line()+ geom_point(size=4, shape=20)\n"
   ]
  },
  {
   "cell_type": "markdown",
   "metadata": {},
   "source": [
    "plot the weather difference for christchurch for coming three days."
   ]
  },
  {
   "cell_type": "markdown",
   "metadata": {},
   "source": [
    "### Task (e): APIs (2 marks)\n",
    "\n",
    "Identify a web service offering data through an API. Access the API using `httr` and collect the information you care about. Convert the data into a dataframe (or more than one). Represent it graphically in a meaningful way."
   ]
  },
  {
   "cell_type": "code",
   "execution_count": null,
   "metadata": {},
   "outputs": [],
   "source": [
    "library(\"httr\")\n",
    "headers <- c(\n",
    "  \"Content-Type\" = \"application/x-www-form-urlencoded; charset=UTF-8\",\n",
    "  \"Accept\" = \"application/json, text/ java script, */*; q=0.01\",\n",
    "  \"Accept-Language\" = \"zh-CN\",\n",
    "  \"Accept-Encoding\" = \"gzip, deflate\",\n",
    "  \"User-Agent: Mozilla/5.0 (Windows NT 10.0; Win64; x64) AppleWebKit/537.36 (KHTML, like Gecko) Chrome/80.0.3987.163 Safari/537.36\",\n",
    "  \"X-Requested-With\" = \"XMLHttpRequest\"\n",
    ")\n",
    "GetCurrentCarList_url <- \"http://59.175.135.157:8088/TopGps/Public/GetCurrentCarList\"\n",
    "\n",
    "cookies <- \"Z9M6_79fc_saltkey=Q39U9G9S; Z9M6_79fc_lastvisit=1601532017; Z9M6_79fc_visitedfid=69; m_t_pinggu0518_m_t=1601535685389_1; _ga=GA1.2.2108113596.1601535685; _gid=GA1.2.493325767.1601535685; Z9M6_79fc_sid=YEbBwf; Z9M6_79fc_oldtopics=6264385D4203436D6264385; Z9M6_79fc_viewlogs=6264385S1601541321V4203436S1601540131V4667681S1601535617; Z9M6_79fc_sendmail=1; Z9M6_79fc_lastact=1601541322%09appapi.php%09dianzan; _gat=1\"\n",
    "\n",
    "payload <- list('orgId' = 0,\n",
    "                'hasChild' = 1\n",
    "               )\n",
    "\n",
    "GetCurrentCarList <- POST(GetCurrentCarList_url, add_headers(.headers = headers), set_cookies(.cookies = cookies), body = payload, encode =\"form\")\n"
   ]
  },
  {
   "cell_type": "markdown",
   "metadata": {},
   "source": [
    "using httr POST to go through an API, construct a header and cookies."
   ]
  },
  {
   "cell_type": "markdown",
   "metadata": {},
   "source": [
    "### Comment, explain and present the work in a clear way (1 marks)"
   ]
  }
 ],
 "metadata": {
  "kernelspec": {
   "display_name": "R",
   "language": "R",
   "name": "ir"
  },
  "language_info": {
   "codemirror_mode": "r",
   "file_extension": ".r",
   "mimetype": "text/x-r-source",
   "name": "R",
   "pygments_lexer": "r",
   "version": "3.6.3"
  }
 },
 "nbformat": 4,
 "nbformat_minor": 4
}
